{
 "cells": [
  {
   "cell_type": "markdown",
   "id": "5f018fb0",
   "metadata": {},
   "source": [
    "# 🎵 Suno AI Style: Prompt-to-Music Generator\n",
    "This Colab turns text prompts into real music using Facebook's MusicGen!"
   ]
  },
  {
   "cell_type": "code",
   "execution_count": null,
   "id": "5f8716ef",
   "metadata": {},
   "outputs": [],
   "source": [
    "# ✅ Install necessary libraries\n",
    "!pip install git+https://github.com/facebookresearch/audiocraft.git --quiet\n",
    "!pip install flask flask-ngrok pydub --quiet"
   ]
  },
  {
   "cell_type": "code",
   "execution_count": null,
   "id": "8ea78c40",
   "metadata": {},
   "outputs": [],
   "source": [
    "# ✅ Import and load MusicGen\n",
    "from audiocraft.models import MusicGen\n",
    "from audiocraft.data.audio import audio_write\n",
    "import torchaudio\n",
    "model = MusicGen.get_pretrained('melody')  # use 'small' for lighter model"
   ]
  },
  {
   "cell_type": "code",
   "execution_count": null,
   "id": "73ad2a65",
   "metadata": {},
   "outputs": [],
   "source": [
    "# ✅ Flask API to serve music\n",
    "from flask import Flask, request, send_file\n",
    "from flask_ngrok import run_with_ngrok\n",
    "from pydub import AudioSegment\n",
    "import uuid\n",
    "import os\n",
    "\n",
    "app = Flask(__name__)\n",
    "run_with_ngrok(app)\n",
    "\n",
    "@app.route('/generate', methods=['POST'])\n",
    "def generate_music():\n",
    "    prompt = request.json.get('prompt', 'Indian tabla and flute bhakti')\n",
    "    output = model.generate([prompt], progress=True)\n",
    "    uid = str(uuid.uuid4())\n",
    "    file_path = f\"/tmp/{uid}_music.wav\"\n",
    "    audio_write(file_path.replace('.wav',''), output[0].cpu(), model.sample_rate, strategy='loudness')\n",
    "    final_path = f\"/tmp/{uid}_music.mp3\"\n",
    "    sound = AudioSegment.from_wav(file_path)\n",
    "    sound.export(final_path, format=\"mp3\")\n",
    "    return send_file(final_path, mimetype='audio/mpeg')\n",
    "\n",
    "@app.route('/')\n",
    "def home():\n",
    "    return '🎵 AI Music Generator is running. POST /generate with {\"prompt\": \"...\"}'\n",
    "\n",
    "app.run()"
   ]
  }
 ],
 "metadata": {},
 "nbformat": 4,
 "nbformat_minor": 5
}
